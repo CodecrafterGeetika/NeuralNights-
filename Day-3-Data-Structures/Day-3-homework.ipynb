{
 "cells": [
  {
   "cell_type": "markdown",
   "id": "eb25ac6c",
   "metadata": {},
   "source": [
    "# 🏠 Day 3 Homework – Lists, Tuples & Dictionaries\n",
    "**Student:** Geetika Sahu  \n",
    "**Date:** June 26, 2025"
   ]
  },
  {
   "cell_type": "markdown",
   "id": "68a3e56b",
   "metadata": {},
   "source": [
    "## ✅ Task 1: List of AI Tools"
   ]
  },
  {
   "cell_type": "code",
   "execution_count": null,
   "id": "ec20e644",
   "metadata": {},
   "outputs": [],
   "source": [
    "ai_tools = [\"ChatGPT\", \"Copilot\", \"DALL·E\", \"Bard\", \"Claude\"]\n",
    "ai_tools.append(\"Gemini\")\n",
    "ai_tools.remove(\"Copilot\")\n",
    "for tool in ai_tools:\n",
    "    print(f\"I use {tool} for AI work.\")"
   ]
  },
  {
   "cell_type": "markdown",
   "id": "f330743f",
   "metadata": {},
   "source": [
    "## ✅ Task 2: Tuple with Birthday"
   ]
  },
  {
   "cell_type": "code",
   "execution_count": null,
   "id": "32c19676",
   "metadata": {},
   "outputs": [],
   "source": [
    "birthday = (24, \"June\", 2005)\n",
    "print(\"Birth year:\", birthday[2])"
   ]
  },
  {
   "cell_type": "markdown",
   "id": "8eda2e6d",
   "metadata": {},
   "source": [
    "## ✅ Task 3: Dictionary - Personal Profile"
   ]
  },
  {
   "cell_type": "code",
   "execution_count": null,
   "id": "2eba9c08",
   "metadata": {},
   "outputs": [],
   "source": [
    "profile = {\n",
    "    \"name\": \"Geetika\",\n",
    "    \"age\": 20,\n",
    "    \"college\": \"Andhra University\",\n",
    "    \"fav_language\": \"Python\"\n",
    "}\n",
    "profile[\"career_goal\"] = \"AI Researcher\"\n",
    "print(profile)"
   ]
  },
  {
   "cell_type": "markdown",
   "id": "359c0001",
   "metadata": {},
   "source": [
    "## 🧠 Reflection\n",
    "- Practiced organizing data using all three structures\n",
    "- Lists for order, tuples for fixed info, dictionaries for key-value pairs\n",
    "- Feeling confident with real-world data structuring!"
   ]
  }
 ],
 "metadata": {},
 "nbformat": 4,
 "nbformat_minor": 5
}