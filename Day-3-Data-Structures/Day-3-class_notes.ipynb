{
 "cells": [
  {
   "cell_type": "markdown",
   "id": "438cd302",
   "metadata": {},
   "source": [
    "# 📘 AI Engineer Program – Day 3: Lists, Tuples & Dictionaries\n",
    "**Date:** June 26, 2025  \n",
    "**Instructor:** Microsoft Industry Expert  \n",
    "**Module:** Python for AI – Step 1"
   ]
  },
  {
   "cell_type": "markdown",
   "id": "18241daf",
   "metadata": {},
   "source": [
    "## 🎯 Objectives\n",
    "- Learn to store multiple values using lists, tuples, and dictionaries\n",
    "- Perform common operations like access, update, append, and loop\n",
    "- Understand when to use each data structure"
   ]
  },
  {
   "cell_type": "markdown",
   "id": "6e7ee5ea",
   "metadata": {},
   "source": [
    "## 🔢 Lists"
   ]
  },
  {
   "cell_type": "code",
   "execution_count": null,
   "id": "356e47e6",
   "metadata": {},
   "outputs": [],
   "source": [
    "fruits = [\"apple\", \"banana\", \"cherry\"]\n",
    "print(fruits[0])\n",
    "fruits.append(\"mango\")\n",
    "print(fruits)\n",
    "fruits.remove(\"banana\")\n",
    "print(fruits)\n",
    "for fruit in fruits:\n",
    "    print(f\"I like {fruit}\")"
   ]
  },
  {
   "cell_type": "markdown",
   "id": "1287cc8c",
   "metadata": {},
   "source": [
    "## 🔒 Tuples"
   ]
  },
  {
   "cell_type": "code",
   "execution_count": null,
   "id": "e6be1846",
   "metadata": {},
   "outputs": [],
   "source": [
    "dimensions = (1920, 1080)\n",
    "print(dimensions[0])  # Output: 1920"
   ]
  },
  {
   "cell_type": "markdown",
   "id": "baec673d",
   "metadata": {},
   "source": [
    "## 🔑 Dictionaries"
   ]
  },
  {
   "cell_type": "code",
   "execution_count": null,
   "id": "9e1e3fa6",
   "metadata": {},
   "outputs": [],
   "source": [
    "student = {\n",
    "    \"name\": \"Geetika\",\n",
    "    \"age\": 20,\n",
    "    \"course\": \"AI Engineering\"\n",
    "}\n",
    "print(student[\"name\"])\n",
    "student[\"age\"] = 21\n",
    "student[\"grade\"] = \"A\"\n",
    "print(student)"
   ]
  },
  {
   "cell_type": "markdown",
   "id": "8acd3989",
   "metadata": {},
   "source": [
    "## 🎯 Challenge: Dictionary of Marks"
   ]
  },
  {
   "cell_type": "code",
   "execution_count": null,
   "id": "b525b509",
   "metadata": {},
   "outputs": [],
   "source": [
    "marks = {\n",
    "    \"Math\": 95,\n",
    "    \"Physics\": 88,\n",
    "    \"AI\": 100\n",
    "}\n",
    "for subject, mark in marks.items():\n",
    "    print(f\"{subject}: {mark} marks\")"
   ]
  },
  {
   "cell_type": "markdown",
   "id": "05f9223c",
   "metadata": {},
   "source": [
    "## 🏠 Homework\n",
    "- List of AI tools: add, remove, and print all with message\n",
    "- Tuple: your birthday (access year)\n",
    "- Dictionary: your profile + career goal"
   ]
  },
  {
   "cell_type": "markdown",
   "id": "b0d907e3",
   "metadata": {},
   "source": [
    "## 🔜 Next Class\n",
    "**Topic:** Functions and Scope in Python"
   ]
  }
 ],
 "metadata": {},
 "nbformat": 4,
 "nbformat_minor": 5
}