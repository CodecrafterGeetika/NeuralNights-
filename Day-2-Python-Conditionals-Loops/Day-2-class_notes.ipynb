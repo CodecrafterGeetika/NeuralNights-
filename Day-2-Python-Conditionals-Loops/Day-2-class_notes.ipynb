{
 "cells": [
  {
   "cell_type": "markdown",
   "id": "64f7c95f",
   "metadata": {},
   "source": [
    "# 📘 AI Engineer Program – Day 2: Conditionals & Loops\n",
    "**Date:** June 25, 2025  \n",
    "**Instructor:** Microsoft Industry Expert  \n",
    "**Module:** Python for AI – Step 1"
   ]
  },
  {
   "cell_type": "markdown",
   "id": "11abac30",
   "metadata": {},
   "source": [
    "## 🎯 Objectives\n",
    "- Learn conditional statements (`if`, `elif`, `else`)\n",
    "- Understand and use loops (`for`, `while`)\n",
    "- Write programs that make decisions and repeat actions"
   ]
  },
  {
   "cell_type": "markdown",
   "id": "906e85b0",
   "metadata": {},
   "source": [
    "## 🔀 Conditional Statements"
   ]
  },
  {
   "cell_type": "code",
   "execution_count": null,
   "id": "09a9a99d",
   "metadata": {},
   "outputs": [],
   "source": [
    "score = int(input(\"Enter your test score: \"))\n",
    "if score >= 90:\n",
    "    print(\"Grade: A\")\n",
    "elif score >= 75:\n",
    "    print(\"Grade: B\")\n",
    "else:\n",
    "    print(\"Grade: C or below\")"
   ]
  },
  {
   "cell_type": "markdown",
   "id": "fa4d9023",
   "metadata": {},
   "source": [
    "## 🔁 While Loop"
   ]
  },
  {
   "cell_type": "code",
   "execution_count": null,
   "id": "cd389ea0",
   "metadata": {},
   "outputs": [],
   "source": [
    "x = 1\n",
    "while x <= 5:\n",
    "    print(\"AI is learning:\", x)\n",
    "    x += 1"
   ]
  },
  {
   "cell_type": "markdown",
   "id": "56755c94",
   "metadata": {},
   "source": [
    "## 🔁 For Loop"
   ]
  },
  {
   "cell_type": "code",
   "execution_count": null,
   "id": "517342f4",
   "metadata": {},
   "outputs": [],
   "source": [
    "for i in range(5):\n",
    "    print(f\"Training round {i+1}\")"
   ]
  },
  {
   "cell_type": "markdown",
   "id": "7164aa93",
   "metadata": {},
   "source": [
    "## 🎯 Challenge: Even or Odd Checker (Looped 5 times)"
   ]
  },
  {
   "cell_type": "code",
   "execution_count": null,
   "id": "2a78cbe7",
   "metadata": {},
   "outputs": [],
   "source": [
    "for i in range(5):\n",
    "    num = int(input(\"Enter a number: \"))\n",
    "    if num % 2 == 0:\n",
    "        print(\"Even number\")\n",
    "    else:\n",
    "        print(\"Odd number\")"
   ]
  },
  {
   "cell_type": "markdown",
   "id": "1f73ca2d",
   "metadata": {},
   "source": [
    "## 🏠 Homework\n",
    "- Check if a number is **positive, negative, or zero**\n",
    "- Multiplication table generator (1–10)\n",
    "- Bonus: Print Fibonacci series up to N terms"
   ]
  },
  {
   "cell_type": "markdown",
   "id": "6037ae0b",
   "metadata": {},
   "source": [
    "## 🔜 Next Class\n",
    "**Topic:** Lists, Tuples & Dictionaries – Python data structures."
   ]
  }
 ],
 "metadata": {},
 "nbformat": 4,
 "nbformat_minor": 5
}