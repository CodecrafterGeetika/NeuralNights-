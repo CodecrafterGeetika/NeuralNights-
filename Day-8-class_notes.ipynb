{
 "cells": [
  {
   "cell_type": "markdown",
   "id": "a46658fd",
   "metadata": {},
   "source": [
    "# 📘 AI Engineer Program – Day 8: Exception Handling in Python\n",
    "**Date:** July 1, 2025  \n",
    "**Instructor:** Microsoft Industry Expert  \n",
    "**Module:** Python for AI – Step 1"
   ]
  },
  {
   "cell_type": "markdown",
   "id": "f4658eba",
   "metadata": {},
   "source": [
    "## 🎯 Objectives\n",
    "- Understand what exceptions are\n",
    "- Use `try`, `except`, `else`, and `finally`\n",
    "- Handle user input and file errors safely"
   ]
  },
  {
   "cell_type": "markdown",
   "id": "5fe40669",
   "metadata": {},
   "source": [
    "## 💥 What is an Exception?"
   ]
  },
  {
   "cell_type": "code",
   "execution_count": null,
   "id": "e3eccf44",
   "metadata": {},
   "outputs": [],
   "source": [
    "print(10 / 0)  # This will raise ZeroDivisionError"
   ]
  },
  {
   "cell_type": "markdown",
   "id": "77e95ca1",
   "metadata": {},
   "source": [
    "## 🧯 Basic try-except Block"
   ]
  },
  {
   "cell_type": "code",
   "execution_count": null,
   "id": "9f8a70ae",
   "metadata": {},
   "outputs": [],
   "source": [
    "try:\n",
    "    x = int(input(\"Enter a number: \"))\n",
    "    print(10 / x)\n",
    "except ZeroDivisionError:\n",
    "    print(\"You can't divide by zero!\")"
   ]
  },
  {
   "cell_type": "markdown",
   "id": "1e014cde",
   "metadata": {},
   "source": [
    "## 🧩 Multiple Exceptions"
   ]
  },
  {
   "cell_type": "code",
   "execution_count": null,
   "id": "718403a1",
   "metadata": {},
   "outputs": [],
   "source": [
    "try:\n",
    "    x = int(input(\"Enter a number: \"))\n",
    "    y = 10 / x\n",
    "except ValueError:\n",
    "    print(\"Please enter a valid number.\")\n",
    "except ZeroDivisionError:\n",
    "    print(\"Division by zero is not allowed.\")"
   ]
  },
  {
   "cell_type": "markdown",
   "id": "c0fc08de",
   "metadata": {},
   "source": [
    "## ✅ Using else and finally"
   ]
  },
  {
   "cell_type": "code",
   "execution_count": null,
   "id": "376e7e16",
   "metadata": {},
   "outputs": [],
   "source": [
    "try:\n",
    "    x = int(input(\"Enter a number: \"))\n",
    "    y = 10 / x\n",
    "except Exception as e:\n",
    "    print(\"Error:\", e)\n",
    "else:\n",
    "    print(\"No errors, result =\", y)\n",
    "finally:\n",
    "    print(\"This always runs.\")"
   ]
  },
  {
   "cell_type": "markdown",
   "id": "801561b9",
   "metadata": {},
   "source": [
    "## 🧠 Best Practices\n",
    "- Always catch specific exceptions first\n",
    "- Use `finally` for cleanup (closing files, etc.)\n",
    "- Avoid bare `except:` unless debugging"
   ]
  },
  {
   "cell_type": "markdown",
   "id": "b3e9aec4",
   "metadata": {},
   "source": [
    "## 🏠 Homework\n",
    "- Handle user input for division with error messages\n",
    "- Handle file read with try-except\n",
    "- Bonus: Custom error message with `raise`"
   ]
  },
  {
   "cell_type": "markdown",
   "id": "e0064bf1",
   "metadata": {},
   "source": [
    "## 🔜 Next Class\n",
    "**Topic:** Object-Oriented Programming (OOP) in Python"
   ]
  }
 ],
 "metadata": {},
 "nbformat": 4,
 "nbformat_minor": 5
}