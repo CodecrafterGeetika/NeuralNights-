{
  "metadata": {
    "kernelspec": {
      "name": "python",
      "display_name": "Python (Pyodide)",
      "language": "python"
    },
    "language_info": {
      "codemirror_mode": {
        "name": "python",
        "version": 3
      },
      "file_extension": ".py",
      "mimetype": "text/x-python",
      "name": "python",
      "nbconvert_exporter": "python",
      "pygments_lexer": "ipython3",
      "version": "3.8"
    }
  },
  "nbformat_minor": 5,
  "nbformat": 4,
  "cells": [
    {
      "id": "85805e7c-16ad-4457-a7b5-bb53d7282a18",
      "cell_type": "markdown",
      "source": "# Day 1 Homework – Python Basics\n**Module:** Python for AI  \n**Student:** Geetika Sahu  \n**Date:** June 25, 2025",
      "metadata": {}
    },
    {
      "id": "7256f349-f2ca-4533-a035-bde2411fbe41",
      "cell_type": "markdown",
      "source": "## Objectives\n- Practice Python basics hands-on\n- Get comfortable with variables, input/output, and types\n- Complete a mini project using the concepts learned",
      "metadata": {}
    },
    {
      "id": "66f2f67c-82ef-4767-8704-01b855f339ec",
      "cell_type": "code",
      "source": "# Create one variable of each data type: int, float, string, bool, list\nmy_int = 10\nmy_float = 3.14\nmy_str = \"Hello AI\"\nmy_bool = True\nmy_list = [1, 2, 3]\n\n# Print types\nprint(type(my_int), type(my_float), type(my_str), type(my_bool), type(my_list))",
      "metadata": {
        "trusted": true
      },
      "outputs": [
        {
          "name": "stdout",
          "output_type": "stream",
          "text": "<class 'int'> <class 'float'> <class 'str'> <class 'bool'> <class 'list'>\n"
        }
      ],
      "execution_count": 1
    },
    {
      "id": "551837a0-d8e5-4dc3-a5a6-d49f98310118",
      "cell_type": "code",
      "source": "# Convert string to integer\nnum_str = \"20\"\nnum_int = int(num_str)\n\n# Add and print\nprint(num_int + 10)  # Output: 30",
      "metadata": {
        "trusted": true
      },
      "outputs": [
        {
          "name": "stdout",
          "output_type": "stream",
          "text": "30\n"
        }
      ],
      "execution_count": 2
    },
    {
      "id": "36fcee16-b83b-43f2-b04e-d11085de2285",
      "cell_type": "code",
      "source": "# Simple calculator\na = float(input(\"Enter first number: \"))\nb = float(input(\"Enter second number: \"))\n\nsum_result = a + b\nproduct_result = a * b\n\nprint(f\"Sum = {sum_result}\")\nprint(f\"Product = {product_result}\")",
      "metadata": {
        "trusted": true
      },
      "outputs": [
        {
          "output_type": "stream",
          "name": "stdin",
          "text": "Enter first number:  6\nEnter second number:  8\n"
        },
        {
          "name": "stdout",
          "output_type": "stream",
          "text": "Sum = 14.0\nProduct = 48.0\n"
        }
      ],
      "execution_count": 3
    },
    {
      "id": "2cbad036-e255-4fef-81af-cf7abec66a94",
      "cell_type": "code",
      "source": "",
      "metadata": {
        "trusted": true
      },
      "outputs": [],
      "execution_count": null
    }
  ]
}