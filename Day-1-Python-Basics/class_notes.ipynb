{
  "metadata": {
    "kernelspec": {
      "name": "xpython",
      "display_name": "Python 3.13 (XPython)",
      "language": "python"
    },
    "language_info": {
      "file_extension": ".py",
      "mimetype": "text/x-python",
      "name": "python",
      "version": "3.13.1"
    }
  },
  "nbformat_minor": 5,
  "nbformat": 4,
  "cells": [
    {
      "id": "20941ae7",
      "cell_type": "markdown",
      "source": "# Day 1: Introduction to Python for AI\n**Date:** June 24, 2025  \n**Instructor:** ChatGPT\n**Module:** Python for AI – Step 1  ",
      "metadata": {}
    },
    {
      "id": "c09ec0b7",
      "cell_type": "markdown",
      "source": "## 🎯 Objectives\n- Understand Python’s role in AI\n- Set up the development environment\n- Learn basic syntax, data types, and variables",
      "metadata": {}
    },
    {
      "id": "262d4886-0917-4ce9-973f-7f7bcd44fa9a",
      "cell_type": "markdown",
      "source": "## 📚 Key Concepts\n- What is Python and why it's used in AI\n- IDEs: Jupyter Notebook \n- Python variables, data types\n- String and numerical operations\n- Type checking and typecasting",
      "metadata": {}
    },
    {
      "id": "ae387206-db4b-43cf-a595-fd77521bade4",
      "cell_type": "markdown",
      "source": "### 👋 Your First Python Code",
      "metadata": {}
    },
    {
      "id": "9c389f5e-44b9-446b-9243-5681a0a0e311",
      "cell_type": "code",
      "source": "print(\"Hello AI Engineer, Geetika! 🚀\")",
      "metadata": {
        "trusted": true
      },
      "outputs": [
        {
          "name": "stdout",
          "output_type": "stream",
          "text": "Hello AI Engineer, Geetika! 🚀\n"
        }
      ],
      "execution_count": 2
    },
    {
      "id": "063dbf1b-1cf8-4c63-8d66-856bda14cd70",
      "cell_type": "markdown",
      "source": "### 🔢 Variables and Data Types",
      "metadata": {}
    },
    {
      "id": "7d1b6a0e-1c4d-4815-848a-dc3051b2eec7",
      "cell_type": "code",
      "source": "name = \"Geetika\"\nage = 18\npi = 3.14159\nis_ai_student = True",
      "metadata": {
        "trusted": true
      },
      "outputs": [],
      "execution_count": 3
    },
    {
      "id": "b505c3d7-a559-4295-823d-75f887ac40bc",
      "cell_type": "markdown",
      "source": "### 🧪 Type Checking",
      "metadata": {}
    },
    {
      "id": "959b2c35-13ea-4668-85b8-262e9402fe38",
      "cell_type": "code",
      "source": "print(type(name))\nprint(type(age))\nprint(type(pi))\nprint(type(is_ai_student))",
      "metadata": {
        "trusted": true
      },
      "outputs": [
        {
          "name": "stdout",
          "output_type": "stream",
          "text": "<class 'str'>\n<class 'int'>\n<class 'float'>\n<class 'bool'>\n"
        }
      ],
      "execution_count": 4
    },
    {
      "id": "810e9492-7b14-46c3-9c07-6fba420a954d",
      "cell_type": "markdown",
      "source": "## ✍️ Practice Task\nCreate a Python program that:\n- Takes your name and age as input\n- Prints a greeting with your age in 5 years",
      "metadata": {}
    },
    {
      "id": "75b7a57e-49a0-44cd-9b77-edf332646a7a",
      "cell_type": "code",
      "source": "name = input(\"Enter your name:\")\nage = int(input(\"Enter your age:\"))\nfuture_age = age + 5\nprint(f\"Hello {name}! In 5 years, you'll be {future_age} years old 🚀\")",
      "metadata": {
        "trusted": true
      },
      "outputs": [
        {
          "output_type": "stream",
          "name": "stdin",
          "text": "Enter your name: Shubhman Gill\nEnter your age: 24\n"
        },
        {
          "name": "stdout",
          "output_type": "stream",
          "text": "Hello Shubhman Gill! In 5 years, you'll be 29 years old 🚀\n"
        }
      ],
      "execution_count": 6
    },
    {
      "id": "a8eb024b-7693-49e1-a812-b41e515f7ca4",
      "cell_type": "code",
      "source": "",
      "metadata": {
        "trusted": true
      },
      "outputs": [],
      "execution_count": null
    }
  ]
}