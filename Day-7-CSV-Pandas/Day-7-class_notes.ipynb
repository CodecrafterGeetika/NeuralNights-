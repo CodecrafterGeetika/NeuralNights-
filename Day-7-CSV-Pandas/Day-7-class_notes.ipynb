{
 "cells": [
  {
   "cell_type": "markdown",
   "id": "123f1d2e",
   "metadata": {},
   "source": [
    "# 📘 AI Engineer Program – Day 7: CSV Files & Structured Data\n",
    "**Date:** June 30, 2025  \n",
    "**Instructor:** Microsoft Industry Expert  \n",
    "**Module:** Python for AI – Step 1"
   ]
  },
  {
   "cell_type": "markdown",
   "id": "35d479a7",
   "metadata": {},
   "source": [
    "## 🎯 Objectives\n",
    "- Read and write CSV files using Python\n",
    "- Understand structured data handling\n",
    "- Learn basic usage of the `csv` and `pandas` modules"
   ]
  },
  {
   "cell_type": "markdown",
   "id": "ff359c53",
   "metadata": {},
   "source": [
    "## 📥 Reading CSV with `csv` Module"
   ]
  },
  {
   "cell_type": "code",
   "execution_count": null,
   "id": "3c819756",
   "metadata": {},
   "outputs": [],
   "source": [
    "import csv\n",
    "\n",
    "with open(\"sample_data.csv\", newline='') as csvfile:\n",
    "    reader = csv.reader(csvfile)\n",
    "    for row in reader:\n",
    "        print(row)"
   ]
  },
  {
   "cell_type": "markdown",
   "id": "c5122b38",
   "metadata": {},
   "source": [
    "## 📝 Writing CSV with `csv` Module"
   ]
  },
  {
   "cell_type": "code",
   "execution_count": null,
   "id": "2553dfb4",
   "metadata": {},
   "outputs": [],
   "source": [
    "with open(\"students.csv\", \"w\", newline='') as csvfile:\n",
    "    writer = csv.writer(csvfile)\n",
    "    writer.writerow([\"Name\", \"Age\", \"Grade\"])\n",
    "    writer.writerow([\"Geetika\", 20, \"A\"])\n",
    "    writer.writerow([\"Aryan\", 21, \"B\"])"
   ]
  },
  {
   "cell_type": "markdown",
   "id": "c8634a09",
   "metadata": {},
   "source": [
    "## 🧠 What is `pandas`?"
   ]
  },
  {
   "cell_type": "code",
   "execution_count": null,
   "id": "7876e0e7",
   "metadata": {},
   "outputs": [],
   "source": [
    "import pandas as pd\n",
    "\n",
    "df = pd.read_csv(\"sample_data.csv\")\n",
    "print(df.head())"
   ]
  },
  {
   "cell_type": "markdown",
   "id": "a9c5c915",
   "metadata": {},
   "source": [
    "## 🧮 Basic Pandas Operations"
   ]
  },
  {
   "cell_type": "code",
   "execution_count": null,
   "id": "891830b9",
   "metadata": {},
   "outputs": [],
   "source": [
    "print(df.columns)\n",
    "print(df[\"Name\"])\n",
    "print(df.describe())"
   ]
  },
  {
   "cell_type": "markdown",
   "id": "574b4d78",
   "metadata": {},
   "source": [
    "## 🏠 Homework\n",
    "- Read a CSV file using `pandas`\n",
    "- Access specific columns and rows\n",
    "- Write your own student gradebook CSV"
   ]
  },
  {
   "cell_type": "markdown",
   "id": "2ddb5b18",
   "metadata": {},
   "source": [
    "## 🔜 Next Class\n",
    "**Topic:** Intro to NumPy for Numerical Computing"
   ]
  }
 ],
 "metadata": {},
 "nbformat": 4,
 "nbformat_minor": 5
}