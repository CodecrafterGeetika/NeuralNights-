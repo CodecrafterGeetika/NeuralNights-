{
 "cells": [
  {
   "cell_type": "markdown",
   "id": "044417bd",
   "metadata": {},
   "source": [
    "# 🏠 Day 7 Homework – CSV Files and Pandas\n",
    "**Student:** Geetika Sahu  \n",
    "**Date:** June 30, 2025"
   ]
  },
  {
   "cell_type": "markdown",
   "id": "d8f58c7c",
   "metadata": {},
   "source": [
    "## ✅ Task 1: Create Student Gradebook CSV"
   ]
  },
  {
   "cell_type": "code",
   "execution_count": null,
   "id": "acd29dec",
   "metadata": {},
   "outputs": [],
   "source": [
    "import csv\n",
    "\n",
    "with open(\"gradebook.csv\", \"w\", newline='') as file:\n",
    "    writer = csv.writer(file)\n",
    "    writer.writerow([\"Name\", \"Subject\", \"Score\"])\n",
    "    writer.writerow([\"Geetika\", \"Math\", 95])\n",
    "    writer.writerow([\"Geetika\", \"AI\", 100])"
   ]
  },
  {
   "cell_type": "markdown",
   "id": "a5f69cb0",
   "metadata": {},
   "source": [
    "## ✅ Task 2: Read CSV with pandas"
   ]
  },
  {
   "cell_type": "code",
   "execution_count": null,
   "id": "a01579d5",
   "metadata": {},
   "outputs": [],
   "source": [
    "import pandas as pd\n",
    "\n",
    "df = pd.read_csv(\"gradebook.csv\")\n",
    "print(df)"
   ]
  },
  {
   "cell_type": "markdown",
   "id": "30f57c50",
   "metadata": {},
   "source": [
    "## ✅ Task 3: Access Data from DataFrame"
   ]
  },
  {
   "cell_type": "code",
   "execution_count": null,
   "id": "757be5c0",
   "metadata": {},
   "outputs": [],
   "source": [
    "print(\"Subjects:\", df[\"Subject\"].tolist())\n",
    "print(\"Average Score:\", df[\"Score\"].mean())"
   ]
  },
  {
   "cell_type": "markdown",
   "id": "1afa79b2",
   "metadata": {},
   "source": [
    "## 🧠 Reflection\n",
    "- Learned how to use CSV module and pandas\n",
    "- Understood structured data manipulation\n",
    "- Ready to handle real-world datasets!"
   ]
  }
 ],
 "metadata": {},
 "nbformat": 4,
 "nbformat_minor": 5
}