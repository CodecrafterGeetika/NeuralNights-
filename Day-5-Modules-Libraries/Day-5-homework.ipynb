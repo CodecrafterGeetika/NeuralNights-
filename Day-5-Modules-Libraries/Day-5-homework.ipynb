{
 "cells": [
  {
   "cell_type": "markdown",
   "id": "a9b87022",
   "metadata": {},
   "source": [
    "# 🏠 Day 5 Homework – Python Modules & Libraries\n",
    "**Student:** Geetika Sahu  \n",
    "**Date:** June 28, 2025"
   ]
  },
  {
   "cell_type": "markdown",
   "id": "021841b7",
   "metadata": {},
   "source": [
    "## ✅ Task 1: math Module"
   ]
  },
  {
   "cell_type": "code",
   "execution_count": null,
   "id": "d3a7e00b",
   "metadata": {},
   "outputs": [],
   "source": [
    "import math\n",
    "print(\"sqrt(144):\", math.sqrt(144))\n",
    "print(\"factorial(6):\", math.factorial(6))\n",
    "print(\"ceil(3.7):\", math.ceil(3.7))"
   ]
  },
  {
   "cell_type": "markdown",
   "id": "31cd0d41",
   "metadata": {},
   "source": [
    "## ✅ Task 2: random Module"
   ]
  },
  {
   "cell_type": "code",
   "execution_count": null,
   "id": "faa26f31",
   "metadata": {},
   "outputs": [],
   "source": [
    "import random\n",
    "ai_tools = [\"ChatGPT\", \"Gemini\", \"Claude\", \"Copilot\", \"DALL·E\"]\n",
    "random.shuffle(ai_tools)\n",
    "print(\"Shuffled tools:\", ai_tools)\n",
    "print(\"Tool to use today:\", random.choice(ai_tools))"
   ]
  },
  {
   "cell_type": "markdown",
   "id": "48cb2615",
   "metadata": {},
   "source": [
    "## ✅ Task 3: datetime Module"
   ]
  },
  {
   "cell_type": "code",
   "execution_count": null,
   "id": "1ded34ad",
   "metadata": {},
   "outputs": [],
   "source": [
    "import datetime\n",
    "print(\"Today's date:\", datetime.date.today())\n",
    "birthday = datetime.date(2005, 6, 24)\n",
    "print(\"My birthday:\", birthday)"
   ]
  },
  {
   "cell_type": "markdown",
   "id": "841ea390",
   "metadata": {},
   "source": [
    "## ⭐ Bonus Task: Create Your Own Module"
   ]
  },
  {
   "cell_type": "code",
   "execution_count": null,
   "id": "0ab6a985",
   "metadata": {},
   "outputs": [],
   "source": [
    "# File: my_utils.py\n",
    "def greet(name):\n",
    "    return f\"Hello {name}, you're doing great!\""
   ]
  },
  {
   "cell_type": "code",
   "execution_count": null,
   "id": "1cbdfe57",
   "metadata": {},
   "outputs": [],
   "source": [
    "# File: main.py\n",
    "import my_utils\n",
    "print(my_utils.greet(\"Geetika\"))"
   ]
  },
  {
   "cell_type": "markdown",
   "id": "effcef78",
   "metadata": {},
   "source": [
    "## 🧠 Reflection\n",
    "- Explored standard Python libraries\n",
    "- Learned to use modules to simplify tasks\n",
    "- Created and imported a custom module"
   ]
  }
 ],
 "metadata": {},
 "nbformat": 4,
 "nbformat_minor": 5
}