{
 "cells": [
  {
   "cell_type": "markdown",
   "id": "928d7df2",
   "metadata": {},
   "source": [
    "# 📘 AI Engineer Program – Day 5: Modules and Libraries\n",
    "**Date:** June 28, 2025  \n",
    "**Instructor:** Microsoft Industry Expert  \n",
    "**Module:** Python for AI – Step 1"
   ]
  },
  {
   "cell_type": "markdown",
   "id": "087a078d",
   "metadata": {},
   "source": [
    "## 🎯 Objectives\n",
    "- Understand what Python modules are\n",
    "- Use built-in libraries like math, random, datetime\n",
    "- Learn to create and import your own module"
   ]
  },
  {
   "cell_type": "markdown",
   "id": "2817ec2d",
   "metadata": {},
   "source": [
    "## 🧮 math Module"
   ]
  },
  {
   "cell_type": "code",
   "execution_count": null,
   "id": "1066a391",
   "metadata": {},
   "outputs": [],
   "source": [
    "import math\n",
    "print(\"Square root:\", math.sqrt(16))\n",
    "print(\"Power:\", math.pow(2, 3))\n",
    "print(\"PI:\", math.pi)\n",
    "print(\"Ceil of 4.2:\", math.ceil(4.2))\n",
    "print(\"Factorial of 5:\", math.factorial(5))"
   ]
  },
  {
   "cell_type": "markdown",
   "id": "1518c535",
   "metadata": {},
   "source": [
    "## 🎲 random Module"
   ]
  },
  {
   "cell_type": "code",
   "execution_count": null,
   "id": "3c08e58d",
   "metadata": {},
   "outputs": [],
   "source": [
    "import random\n",
    "\n",
    "print(\"Random number (0-1):\", random.random())\n",
    "print(\"Random int (1-10):\", random.randint(1, 10))\n",
    "\n",
    "items = [\"AI\", \"ML\", \"DL\", \"NLP\"]\n",
    "print(\"Random choice:\", random.choice(items))\n",
    "random.shuffle(items)\n",
    "print(\"Shuffled:\", items)"
   ]
  },
  {
   "cell_type": "markdown",
   "id": "45b47a2d",
   "metadata": {},
   "source": [
    "## 📆 datetime Module"
   ]
  },
  {
   "cell_type": "code",
   "execution_count": null,
   "id": "7fdcdd15",
   "metadata": {},
   "outputs": [],
   "source": [
    "import datetime\n",
    "\n",
    "today = datetime.date.today()\n",
    "print(\"Today's date:\", today)\n",
    "\n",
    "now = datetime.datetime.now()\n",
    "print(\"Current time:\", now.strftime(\"%H:%M:%S\"))\n",
    "\n",
    "birthday = datetime.date(2005, 6, 24)\n",
    "print(\"My birthday:\", birthday)"
   ]
  },
  {
   "cell_type": "markdown",
   "id": "92d5e2c5",
   "metadata": {},
   "source": [
    "## 📁 Create Your Own Module"
   ]
  },
  {
   "cell_type": "code",
   "execution_count": null,
   "id": "1045bebd",
   "metadata": {},
   "outputs": [],
   "source": [
    "# math_utils.py\n",
    "def square(n):\n",
    "    return n * n"
   ]
  },
  {
   "cell_type": "code",
   "execution_count": null,
   "id": "f6f20891",
   "metadata": {},
   "outputs": [],
   "source": [
    "# main.py\n",
    "import math_utils\n",
    "print(math_utils.square(5))"
   ]
  },
  {
   "cell_type": "markdown",
   "id": "c9fc5473",
   "metadata": {},
   "source": [
    "## 🏠 Homework\n",
    "- Use math, random, datetime modules\n",
    "- Bonus: Create your own Python module"
   ]
  },
  {
   "cell_type": "markdown",
   "id": "e40cf6e7",
   "metadata": {},
   "source": [
    "## 🔜 Next Class\n",
    "**Topic:** File Handling in Python"
   ]
  }
 ],
 "metadata": {},
 "nbformat": 4,
 "nbformat_minor": 5
}