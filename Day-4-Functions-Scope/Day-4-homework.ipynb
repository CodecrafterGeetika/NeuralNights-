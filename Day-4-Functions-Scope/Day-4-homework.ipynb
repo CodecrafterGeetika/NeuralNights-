{
 "cells": [
  {
   "cell_type": "markdown",
   "id": "bde5bd0b",
   "metadata": {},
   "source": [
    "# 🏠 Day 4 Homework – Functions and Scope\n",
    "**Student:** Geetika Sahu  \n",
    "**Date:** June 27, 2025"
   ]
  },
  {
   "cell_type": "markdown",
   "id": "f4b68819",
   "metadata": {},
   "source": [
    "## ✅ Task 1: Factorial Function"
   ]
  },
  {
   "cell_type": "code",
   "execution_count": null,
   "id": "594905c0",
   "metadata": {},
   "outputs": [],
   "source": [
    "def factorial(n):\n",
    "    result = 1\n",
    "    for i in range(1, n+1):\n",
    "        result *= i\n",
    "    return result\n",
    "\n",
    "print(\"Factorial of 5:\", factorial(5))"
   ]
  },
  {
   "cell_type": "markdown",
   "id": "7d32570b",
   "metadata": {},
   "source": [
    "## ✅ Task 2: Reverse a String"
   ]
  },
  {
   "cell_type": "code",
   "execution_count": null,
   "id": "8b6ed3a7",
   "metadata": {},
   "outputs": [],
   "source": [
    "def reverse_string(s):\n",
    "    return s[::-1]\n",
    "\n",
    "print(\"Reversed:\", reverse_string(\"Geetika\"))"
   ]
  },
  {
   "cell_type": "markdown",
   "id": "ecb890b4",
   "metadata": {},
   "source": [
    "## ✅ Task 3: Count Vowels in a String"
   ]
  },
  {
   "cell_type": "code",
   "execution_count": null,
   "id": "3880e9c6",
   "metadata": {},
   "outputs": [],
   "source": [
    "def count_vowels(text):\n",
    "    vowels = \"aeiouAEIOU\"\n",
    "    count = 0\n",
    "    for char in text:\n",
    "        if char in vowels:\n",
    "            count += 1\n",
    "    return count\n",
    "\n",
    "print(\"Vowel count:\", count_vowels(\"AI Engineering\"))"
   ]
  },
  {
   "cell_type": "markdown",
   "id": "e45598ba",
   "metadata": {},
   "source": [
    "## ⭐ Bonus Task: Palindrome Checker"
   ]
  },
  {
   "cell_type": "code",
   "execution_count": null,
   "id": "a735aea0",
   "metadata": {},
   "outputs": [],
   "source": [
    "def is_palindrome(word):\n",
    "    return word == word[::-1]\n",
    "\n",
    "print(\"Is 'madam' a palindrome?\", is_palindrome(\"madam\"))"
   ]
  },
  {
   "cell_type": "markdown",
   "id": "4cc186c2",
   "metadata": {},
   "source": [
    "## 🧠 Reflection\n",
    "- Practiced writing and calling functions\n",
    "- Understood parameter passing and return values\n",
    "- Felt more confident using Python functions for small problems"
   ]
  }
 ],
 "metadata": {},
 "nbformat": 4,
 "nbformat_minor": 5
}