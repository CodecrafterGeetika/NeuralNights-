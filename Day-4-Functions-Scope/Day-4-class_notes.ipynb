{
 "cells": [
  {
   "cell_type": "markdown",
   "id": "5648c85d",
   "metadata": {},
   "source": [
    "# 📘 AI Engineer Program – Day 4: Functions and Scope\n",
    "**Date:** June 27, 2025  \n",
    "**Instructor:** Microsoft Industry Expert  \n",
    "**Module:** Python for AI – Step 1"
   ]
  },
  {
   "cell_type": "markdown",
   "id": "3e6f9ce5",
   "metadata": {},
   "source": [
    "## 🎯 Objectives\n",
    "- Learn how to define and use functions\n",
    "- Understand parameters, return values, and scope\n",
    "- Practice writing reusable and modular code"
   ]
  },
  {
   "cell_type": "markdown",
   "id": "c61721ea",
   "metadata": {},
   "source": [
    "## 🔧 Defining a Function"
   ]
  },
  {
   "cell_type": "code",
   "execution_count": null,
   "id": "f26ad8d8",
   "metadata": {},
   "outputs": [],
   "source": [
    "def greet(name):\n",
    "    print(f\"Hello {name}, welcome to AI Engineering!\")\n",
    "\n",
    "greet(\"Geetika\")"
   ]
  },
  {
   "cell_type": "markdown",
   "id": "2f3c22cb",
   "metadata": {},
   "source": [
    "## 🔁 Return Values"
   ]
  },
  {
   "cell_type": "code",
   "execution_count": null,
   "id": "c5cd74c4",
   "metadata": {},
   "outputs": [],
   "source": [
    "def square(n):\n",
    "    return n * n\n",
    "\n",
    "result = square(5)\n",
    "print(\"Square is:\", result)"
   ]
  },
  {
   "cell_type": "markdown",
   "id": "6c967384",
   "metadata": {},
   "source": [
    "## 🔄 Parameters vs Arguments"
   ]
  },
  {
   "cell_type": "code",
   "execution_count": null,
   "id": "3f1051b6",
   "metadata": {},
   "outputs": [],
   "source": [
    "# Parameter is 'name'; Argument is 'Geetika'\n",
    "def welcome(name):\n",
    "    print(\"Welcome,\", name)\n",
    "\n",
    "welcome(\"Geetika\")"
   ]
  },
  {
   "cell_type": "markdown",
   "id": "2f4cbd27",
   "metadata": {},
   "source": [
    "## 📦 Variable Scope"
   ]
  },
  {
   "cell_type": "code",
   "execution_count": null,
   "id": "0b1ec16e",
   "metadata": {},
   "outputs": [],
   "source": [
    "x = 10  # Global variable\n",
    "\n",
    "def test_scope():\n",
    "    x = 5  # Local variable\n",
    "    print(\"Inside function:\", x)\n",
    "\n",
    "test_scope()\n",
    "print(\"Outside function:\", x)"
   ]
  },
  {
   "cell_type": "markdown",
   "id": "443e24c4",
   "metadata": {},
   "source": [
    "## ⚡ Challenge: Prime Checker"
   ]
  },
  {
   "cell_type": "code",
   "execution_count": null,
   "id": "abf27bdc",
   "metadata": {},
   "outputs": [],
   "source": [
    "def is_prime(n):\n",
    "    if n <= 1:\n",
    "        return False\n",
    "    for i in range(2, int(n**0.5)+1):\n",
    "        if n % i == 0:\n",
    "            return False\n",
    "    return True\n",
    "\n",
    "num = int(input(\"Enter a number: \"))\n",
    "if is_prime(num):\n",
    "    print(\"It's a prime number!\")\n",
    "else:\n",
    "    print(\"Not a prime number.\")"
   ]
  },
  {
   "cell_type": "markdown",
   "id": "b7790751",
   "metadata": {},
   "source": [
    "## 🏠 Homework\n",
    "- Write a function for factorial\n",
    "- Reverse a string\n",
    "- Count vowels in a string\n",
    "- Bonus: Check for palindrome"
   ]
  },
  {
   "cell_type": "markdown",
   "id": "9d4b0eb7",
   "metadata": {},
   "source": [
    "## 🔜 Next Class\n",
    "**Topic:** Modules and Libraries in Python"
   ]
  }
 ],
 "metadata": {},
 "nbformat": 4,
 "nbformat_minor": 5
}