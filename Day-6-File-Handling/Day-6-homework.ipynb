{
 "cells": [
  {
   "cell_type": "markdown",
   "id": "88099f8d",
   "metadata": {},
   "source": [
    "# 🏠 Day 6 Homework – File Handling in Python\n",
    "**Student:** Geetika Sahu  \n",
    "**Date:** June 29, 2025"
   ]
  },
  {
   "cell_type": "markdown",
   "id": "199f7ee0",
   "metadata": {},
   "source": [
    "## ✅ Task 1: Write a Diary Entry"
   ]
  },
  {
   "cell_type": "code",
   "execution_count": null,
   "id": "ac888c17",
   "metadata": {},
   "outputs": [],
   "source": [
    "with open(\"diary.txt\", \"w\") as file:\n",
    "    file.write(\"June 29, 2025\\n\")\n",
    "    file.write(\"Today I learned file handling in Python. It was awesome!\\n\")"
   ]
  },
  {
   "cell_type": "markdown",
   "id": "e07662d8",
   "metadata": {},
   "source": [
    "## ✅ Task 2: Append More Thoughts"
   ]
  },
  {
   "cell_type": "code",
   "execution_count": null,
   "id": "c79de4e0",
   "metadata": {},
   "outputs": [],
   "source": [
    "with open(\"diary.txt\", \"a\") as file:\n",
    "    file.write(\"Looking forward to learning CSV and data files tomorrow.\\n\")"
   ]
  },
  {
   "cell_type": "markdown",
   "id": "8fbcfb1c",
   "metadata": {},
   "source": [
    "## ✅ Task 3: Read Diary File Line-by-Line"
   ]
  },
  {
   "cell_type": "code",
   "execution_count": null,
   "id": "15f9e337",
   "metadata": {},
   "outputs": [],
   "source": [
    "with open(\"diary.txt\", \"r\") as file:\n",
    "    for line in file:\n",
    "        print(line.strip())"
   ]
  },
  {
   "cell_type": "markdown",
   "id": "4f768235",
   "metadata": {},
   "source": [
    "## 🧠 Reflection\n",
    "- Practiced reading and writing files using `with open()`\n",
    "- Learned how to create, append, and read from text files\n",
    "- Now ready to handle real data files like CSVs!"
   ]
  }
 ],
 "metadata": {},
 "nbformat": 4,
 "nbformat_minor": 5
}