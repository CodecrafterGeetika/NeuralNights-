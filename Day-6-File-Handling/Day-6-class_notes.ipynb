{
 "cells": [
  {
   "cell_type": "markdown",
   "id": "054ce502",
   "metadata": {},
   "source": [
    "# 📘 AI Engineer Program – Day 6: File Handling in Python\n",
    "**Date:** June 29, 2025  \n",
    "**Instructor:** Microsoft Industry Expert  \n",
    "**Module:** Python for AI – Step 1"
   ]
  },
  {
   "cell_type": "markdown",
   "id": "4ec61829",
   "metadata": {},
   "source": [
    "## 🎯 Objectives\n",
    "- Read and write text files in Python\n",
    "- Understand file modes (`r`, `w`, `a`)\n",
    "- Use `with open()` for safe file operations"
   ]
  },
  {
   "cell_type": "markdown",
   "id": "2ef15c44",
   "metadata": {},
   "source": [
    "## 📂 Reading a File"
   ]
  },
  {
   "cell_type": "code",
   "execution_count": null,
   "id": "fbb256be",
   "metadata": {},
   "outputs": [],
   "source": [
    "with open(\"sample.txt\", \"r\") as file:\n",
    "    content = file.read()\n",
    "    print(content)"
   ]
  },
  {
   "cell_type": "markdown",
   "id": "bfc8b100",
   "metadata": {},
   "source": [
    "## 📝 Writing to a File"
   ]
  },
  {
   "cell_type": "code",
   "execution_count": null,
   "id": "0b44ae11",
   "metadata": {},
   "outputs": [],
   "source": [
    "with open(\"output.txt\", \"w\") as file:\n",
    "    file.write(\"Hello, AI Engineer!\\n\")\n",
    "    file.write(\"Welcome to file handling.\")"
   ]
  },
  {
   "cell_type": "markdown",
   "id": "f4d83bbe",
   "metadata": {},
   "source": [
    "## ➕ Appending to a File"
   ]
  },
  {
   "cell_type": "code",
   "execution_count": null,
   "id": "f5a17836",
   "metadata": {},
   "outputs": [],
   "source": [
    "with open(\"output.txt\", \"a\") as file:\n",
    "    file.write(\"\\nThis line was appended.\")"
   ]
  },
  {
   "cell_type": "markdown",
   "id": "f072ec04",
   "metadata": {},
   "source": [
    "## 🔁 Reading Line by Line"
   ]
  },
  {
   "cell_type": "code",
   "execution_count": null,
   "id": "2269152a",
   "metadata": {},
   "outputs": [],
   "source": [
    "with open(\"output.txt\", \"r\") as file:\n",
    "    for line in file:\n",
    "        print(line.strip())"
   ]
  },
  {
   "cell_type": "markdown",
   "id": "257bef3b",
   "metadata": {},
   "source": [
    "## 📑 File Modes\n",
    "- `'r'`: read (default)\n",
    "- `'w'`: write (overwrites file)\n",
    "- `'a'`: append\n",
    "- `'r+'`: read and write"
   ]
  },
  {
   "cell_type": "markdown",
   "id": "70d71d61",
   "metadata": {},
   "source": [
    "## 🏠 Homework\n",
    "- Create and write your own diary entry\n",
    "- Append new lines to an existing file\n",
    "- Read file contents and display line-by-line"
   ]
  },
  {
   "cell_type": "markdown",
   "id": "4b446d27",
   "metadata": {},
   "source": [
    "## 🔜 Next Class\n",
    "**Topic:** Working with CSV Files in Python"
   ]
  }
 ],
 "metadata": {},
 "nbformat": 4,
 "nbformat_minor": 5
}