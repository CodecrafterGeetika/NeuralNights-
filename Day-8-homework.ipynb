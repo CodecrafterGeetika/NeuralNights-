{
 "cells": [
  {
   "cell_type": "markdown",
   "id": "477ac28b",
   "metadata": {},
   "source": [
    "# 🏠 Day 8 Homework – Exception Handling\n",
    "**Student:** Geetika Sahu  \n",
    "**Date:** July 1, 2025"
   ]
  },
  {
   "cell_type": "markdown",
   "id": "127ad7c1",
   "metadata": {},
   "source": [
    "## ✅ Task 1: Division with Exception Handling"
   ]
  },
  {
   "cell_type": "code",
   "execution_count": null,
   "id": "5eeb379b",
   "metadata": {},
   "outputs": [],
   "source": [
    "try:\n",
    "    num = int(input(\"Enter a number: \"))\n",
    "    print(\"10 / num =\", 10 / num)\n",
    "except ZeroDivisionError:\n",
    "    print(\"Can't divide by zero.\")\n",
    "except ValueError:\n",
    "    print(\"Please enter a valid number.\")"
   ]
  },
  {
   "cell_type": "markdown",
   "id": "805852ec",
   "metadata": {},
   "source": [
    "## ✅ Task 2: Handle File Read Error"
   ]
  },
  {
   "cell_type": "code",
   "execution_count": null,
   "id": "742d13c1",
   "metadata": {},
   "outputs": [],
   "source": [
    "try:\n",
    "    with open(\"my_diary.txt\", \"r\") as file:\n",
    "        print(file.read())\n",
    "except FileNotFoundError:\n",
    "    print(\"File not found. Make sure it exists.\")"
   ]
  },
  {
   "cell_type": "markdown",
   "id": "3af3144b",
   "metadata": {},
   "source": [
    "## ⭐ Bonus Task: Raise a Custom Exception"
   ]
  },
  {
   "cell_type": "code",
   "execution_count": null,
   "id": "424fb3cb",
   "metadata": {},
   "outputs": [],
   "source": [
    "age = int(input(\"Enter your age: \"))\n",
    "if age < 0:\n",
    "    raise ValueError(\"Age cannot be negative.\")\n",
    "else:\n",
    "    print(\"Your age is\", age)"
   ]
  },
  {
   "cell_type": "markdown",
   "id": "6c66254e",
   "metadata": {},
   "source": [
    "## 🧠 Reflection\n",
    "- Learned to use `try`, `except`, `else`, and `finally`\n",
    "- Practiced catching different error types\n",
    "- Now confident in writing safer, error-proof code"
   ]
  }
 ],
 "metadata": {},
 "nbformat": 4,
 "nbformat_minor": 5
}